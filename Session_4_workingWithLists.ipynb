{
 "cells": [
  {
   "cell_type": "markdown",
   "metadata": {},
   "source": [
    "### SESSION 4: WORKING WITH LISTS\n",
    "\n",
    "##### February 13, 2019\n",
    "\n",
    "***"
   ]
  },
  {
   "cell_type": "markdown",
   "metadata": {},
   "source": [
    "Learning Objectives\n",
    "\n",
    "- Styling your code\n",
    "- Looping through an entire list\n",
    "- Avoiding indentation errors\n",
    "- Making numerical lists\n",
    "- Working with part of a list\n",
    "- Tuples\n",
    "\n",
    "***"
   ]
  },
  {
   "cell_type": "markdown",
   "metadata": {},
   "source": [
    "### Let’s get motivated!\n",
    "\n",
    "Eventually (after the next 2 - 3 sessions), we’ll be able to write the following line of code:\n",
    "\n",
    "> new_list = [item if item != 'pie' else 'cookies' for item in original_list]\n",
    "\n",
    "In response to questions like:\n",
    "> How can we replace every instance of a value in a list with a new value?"
   ]
  },
  {
   "cell_type": "code",
   "execution_count": null,
   "metadata": {
    "collapsed": true
   },
   "outputs": [],
   "source": [
    "# Need to define original_list first:\n",
    "original_list = ['item 1', 2, 'three', 4, 'pie', 'pie', 'pie', 'pie', 'pie', 'pie']\n",
    "\n",
    "# The following line of code is an example of list comprehension:\n",
    "new_list = [item if item != 'pie' else 'cookies' for item in original_list]"
   ]
  },
  {
   "cell_type": "code",
   "execution_count": null,
   "metadata": {
    "collapsed": true
   },
   "outputs": [],
   "source": [
    "# The line of code above enables us to create a new list \n",
    "# in which we replace every instance of a specific value in the list \n",
    "# with a new specified value:\n",
    "\n",
    "print(original_list)\n",
    "print(new_list)"
   ]
  },
  {
   "cell_type": "markdown",
   "metadata": {},
   "source": [
    "##### First, we need to learn about the different parts of the code below.\n",
    "\n",
    "> Then, and only then, will you be able to understand list comprehension."
   ]
  },
  {
   "cell_type": "code",
   "execution_count": 6,
   "metadata": {},
   "outputs": [
    {
     "name": "stdout",
     "output_type": "stream",
     "text": [
      "['item 1', 2, 'three', 4, 'pie', 'pie', 'pie', 'pie', 'pie', 'pie']\n",
      "['item 1', 2, 'three', 4, 'cookies', 'cookies', 'cookies', 'cookies', 'cookies', 'cookies']\n"
     ]
    }
   ],
   "source": [
    "original_list = ['item 1', 2, 'three', 4, 'pie', 'pie', 'pie', 'pie', 'pie', 'pie']\n",
    "new_list = []\n",
    "\n",
    "for item in original_list:\n",
    "    if item != 'pie':\n",
    "        new_list.append(item)    \n",
    "    else:\n",
    "        new_list.append('cookies')\n",
    "\n",
    "\n",
    "        \n",
    "print(original_list)\n",
    "print(new_list)"
   ]
  },
  {
   "cell_type": "code",
   "execution_count": null,
   "metadata": {
    "collapsed": true
   },
   "outputs": [],
   "source": [
    "# BEGIN LESSON"
   ]
  },
  {
   "cell_type": "markdown",
   "metadata": {},
   "source": [
    "***\n",
    "# 1) Styling your code\n",
    "\n",
    "In any language, style matters. The reason for that: **code readability is the highest priority.**\n",
    "\n",
    "> Given the choice between writing code that’s easier to write or code that’s easier to read, Python programmers will almost always encourage you to write code that’s easier to read.\n",
    "\n",
    "***\n",
    "\n",
    "### ENTER: The Style Guide -- PEP 8\n",
    "\n",
    "- Look through the original PEP 8 style guide at:\n",
    "    - https://python.org/dev/peps/pep-0008/\n",
    "    - You won’t use much of it now, but it might be interesting to skim through it.\n",
    "    - I will make sure to emphasize the guidelines that are relevant to the lessons of the day.\n",
    "\n",
    "\n",
    "- Another helpful resource for PEP 8 styling guidelines:\n",
    "    - https://www.datacamp.com/community/tutorials/pep8-tutorial-python-code\n",
    "***"
   ]
  },
  {
   "cell_type": "markdown",
   "metadata": {},
   "source": [
    "##### Let's review some key guides:\n",
    "\n",
    "> ##### Whitespace -- Spaces Over Tabs\n",
    "\n",
    "> https://www.python.org/dev/peps/pep-0008/#tabs-or-spaces\n"
   ]
  },
  {
   "cell_type": "code",
   "execution_count": null,
   "metadata": {
    "collapsed": true
   },
   "outputs": [],
   "source": [
    "# VISIT link above first to review guiding tips\n",
    "\n",
    "# DEMO tab conversion to spaces in Jupyter Notebook, Sublime Text 3, repl.it:\n",
    "\n",
    "if some_conditional:\n",
    "    print()"
   ]
  },
  {
   "cell_type": "markdown",
   "metadata": {},
   "source": [
    "\n",
    "> ##### Whitespace -- Indentation\n",
    "\n",
    "> https://www.python.org/dev/peps/pep-0008/#indentation\n",
    "***\n",
    "\n",
    "\n",
    "\n",
    "- Use 4 spaces per indentation level."
   ]
  },
  {
   "cell_type": "code",
   "execution_count": null,
   "metadata": {
    "collapsed": true
   },
   "outputs": [],
   "source": [
    "if some_conditional:\n",
    "    print()"
   ]
  },
  {
   "cell_type": "markdown",
   "metadata": {},
   "source": [
    "- Discuss error below:"
   ]
  },
  {
   "cell_type": "code",
   "execution_count": 8,
   "metadata": {},
   "outputs": [
    {
     "name": "stdout",
     "output_type": "stream",
     "text": [
      "Hello Python World!\n"
     ]
    }
   ],
   "source": [
    "message = \"Hello Python World!\"\n",
    "    print(message)\n"
   ]
  },
  {
   "cell_type": "markdown",
   "metadata": {},
   "source": [
    "###### Notes from source documentation:\n",
    "\n",
    "> The closing brace/bracket/parenthesis on multiline constructs may either:\n",
    "- line up under the first non-whitespace character of the last line of list, as in:\n"
   ]
  },
  {
   "cell_type": "code",
   "execution_count": null,
   "metadata": {
    "collapsed": true
   },
   "outputs": [],
   "source": [
    "my_list = [\n",
    "    1, 2, 3,\n",
    "    4, 5, 6,\n",
    "    ]\n",
    "\n",
    "# Also as in:\n",
    "\n",
    "# result = some_function_that_takes_arguments(\n",
    "#     'a', 'b', 'c',\n",
    "#     'd', 'e', 'f',\n",
    "#     )\n"
   ]
  },
  {
   "cell_type": "markdown",
   "metadata": {},
   "source": [
    "> or it may be:\n",
    "- lined up under the first character of the line that starts the multiline construct, as in:\n"
   ]
  },
  {
   "cell_type": "code",
   "execution_count": 12,
   "metadata": {},
   "outputs": [],
   "source": [
    "my_list = [\n",
    "    1, 2, 3,\n",
    "    4, 5, 6,\n",
    "]\n",
    "\n",
    "# # Also as in:\n",
    "\n",
    "# result = some_function_that_takes_arguments(\n",
    "#     'a', 'b', 'c',\n",
    "#     'd', 'e', 'f',\n",
    "# )"
   ]
  },
  {
   "cell_type": "markdown",
   "metadata": {
    "collapsed": true
   },
   "source": [
    "***\n",
    "> ##### Whitespace -- Blank Lines (newlines)\n",
    "\n",
    "> https://www.python.org/dev/peps/pep-0008/#blank-lines\n",
    "\n",
    "- Blank lines (aka newlines) won’t affect how your code runs, but they will affect the readability of your code. \n",
    "- The Python interpreter uses horizontal indentation to interpret the meaning of your code, but it disregards vertical spacing.\n",
    "- To group parts of your program visually, use blank lines. \n",
    "\n",
    "*You should use blank lines to organize your files, but don’t do so excessively. *\n",
    "- For example, if you have five lines of code that build a list, and then another three lines that do something with that list, it’s appropriate to place a blank line between the two sections.\n",
    "- However, you should not place three or four blank lines between the two sections.\n",
    "\n",
    "\n",
    "\n",
    "***\n",
    "> ##### Line Length -- Word Wrap\n",
    "\n",
    "> https://www.python.org/dev/peps/pep-0008/#maximum-line-length\n",
    "- **Best practice:** \n",
    "    - *Avoid* using word wrap!\n",
    "    - Use visual ruler instead\n",
    "\n",
    "\n",
    "***\n",
    "> ##### Other Style Guidelines -- See official docs linked below\n",
    "\n",
    "> - https://www.python.org/dev/peps/pep-0008/#code-lay-out\n",
    "> - https://www.python.org/dev/peps/pep-0008/#whitespace-in-expressions-and-statements\n",
    "> - https://www.python.org/dev/peps/pep-0008/#other-recommendations\n",
    "> - https://www.python.org/dev/peps/pep-0008/#comments\n",
    "> - https://www.python.org/dev/peps/pep-0008/#naming-conventions\n",
    "\n",
    "\n",
    "***"
   ]
  },
  {
   "cell_type": "markdown",
   "metadata": {},
   "source": [
    "***\n",
    "# 2) Looping through an entire list using a for loop\n",
    "\n",
    "##### A for loop translated to 'human English':\n",
    "> for each item in list,\n",
    "\n",
    "> assign that item to a variable,\n",
    "\n",
    "> and do something to that variable (method) or with that variable (function)"
   ]
  },
  {
   "cell_type": "code",
   "execution_count": 13,
   "metadata": {},
   "outputs": [
    {
     "name": "stdout",
     "output_type": "stream",
     "text": [
      "dog\n",
      "cat\n",
      "fish\n"
     ]
    }
   ],
   "source": [
    "# Translate the for loop below to human-English.\n",
    "\n",
    "animals = ['dog', 'cat', 'fish']\n",
    "\n",
    "for pet in animals:\n",
    "    print(pet)"
   ]
  },
  {
   "cell_type": "markdown",
   "metadata": {
    "collapsed": true
   },
   "source": [
    "\n",
    "\n",
    "\n",
    "\n",
    "\n",
    "\n",
    "##### Translation:\n",
    "> for each item in the list called `animals`,\n",
    "\n",
    "> call that item `pet`\n",
    "\n",
    "> and do something using `pet` (in this case: print the value of `pet`)\n"
   ]
  },
  {
   "cell_type": "markdown",
   "metadata": {},
   "source": [
    "##### What is happening when I run the code below?\n"
   ]
  },
  {
   "cell_type": "code",
   "execution_count": 14,
   "metadata": {},
   "outputs": [
    {
     "name": "stdout",
     "output_type": "stream",
     "text": [
      "fish\n"
     ]
    }
   ],
   "source": [
    "print(pet)"
   ]
  },
  {
   "cell_type": "code",
   "execution_count": null,
   "metadata": {
    "collapsed": true
   },
   "outputs": [],
   "source": []
  },
  {
   "cell_type": "code",
   "execution_count": null,
   "metadata": {
    "collapsed": true
   },
   "outputs": [],
   "source": []
  },
  {
   "cell_type": "code",
   "execution_count": null,
   "metadata": {
    "collapsed": true
   },
   "outputs": [],
   "source": []
  },
  {
   "cell_type": "markdown",
   "metadata": {},
   "source": [
    "**TAKEAWAY:** BE CAREFUL that you don't assume that it's unassigned!\n",
    "\n",
    "The solution is to wrap our for loop in a function, which we'll learn about later.\n",
    "\n",
    "Below is an example to show what I mean:"
   ]
  },
  {
   "cell_type": "code",
   "execution_count": 16,
   "metadata": {},
   "outputs": [
    {
     "name": "stdout",
     "output_type": "stream",
     "text": [
      "dog\n",
      "cat\n",
      "fish\n"
     ]
    },
    {
     "ename": "NameError",
     "evalue": "name 'pet' is not defined",
     "output_type": "error",
     "traceback": [
      "\u001b[0;31m---------------------------------------------------------------------------\u001b[0m",
      "\u001b[0;31mNameError\u001b[0m                                 Traceback (most recent call last)",
      "\u001b[0;32m<ipython-input-16-b30f078c2640>\u001b[0m in \u001b[0;36m<module>\u001b[0;34m()\u001b[0m\n\u001b[1;32m      8\u001b[0m \u001b[0mtest_func\u001b[0m\u001b[0;34m(\u001b[0m\u001b[0;34m)\u001b[0m\u001b[0;34m\u001b[0m\u001b[0;34m\u001b[0m\u001b[0m\n\u001b[1;32m      9\u001b[0m \u001b[0;34m\u001b[0m\u001b[0m\n\u001b[0;32m---> 10\u001b[0;31m \u001b[0mprint\u001b[0m\u001b[0;34m(\u001b[0m\u001b[0mpet\u001b[0m\u001b[0;34m)\u001b[0m\u001b[0;34m\u001b[0m\u001b[0;34m\u001b[0m\u001b[0m\n\u001b[0m\u001b[1;32m     11\u001b[0m \u001b[0;34m\u001b[0m\u001b[0m\n\u001b[1;32m     12\u001b[0m \u001b[0;31m## What's the main difference between the code without the function\u001b[0m\u001b[0;34m\u001b[0m\u001b[0;34m\u001b[0m\u001b[0;34m\u001b[0m\u001b[0m\n",
      "\u001b[0;31mNameError\u001b[0m: name 'pet' is not defined"
     ]
    }
   ],
   "source": [
    "# First we need to get rid of the 'pet' variable defined by the for loop\n",
    "del pet\n",
    "\n",
    "\n",
    "# Here is the solution demonstrated:\n",
    "def test_func():\n",
    "    animals = ['dog', 'cat', 'fish']\n",
    "    for pet in animals:\n",
    "        print(pet)\n",
    "\n",
    "test_func()\n",
    "\n",
    "print(pet)\n",
    "\n",
    "\n",
    "## What's the main difference between the code without the function \n",
    "## and the one with the function?"
   ]
  },
  {
   "cell_type": "code",
   "execution_count": null,
   "metadata": {
    "collapsed": true
   },
   "outputs": [],
   "source": []
  },
  {
   "cell_type": "markdown",
   "metadata": {},
   "source": [
    "### For loop syntax"
   ]
  },
  {
   "cell_type": "code",
   "execution_count": 19,
   "metadata": {},
   "outputs": [
    {
     "name": "stdout",
     "output_type": "stream",
     "text": [
      "alice\n",
      "david\n",
      "carolina\n"
     ]
    }
   ],
   "source": [
    "# Volunteer: Translate the code below to human-English.\n",
    "\n",
    "magicians = ['alice', 'david', 'carolina']\n",
    "\n",
    "for magician in magicians:\n",
    "    print(magician)"
   ]
  },
  {
   "cell_type": "markdown",
   "metadata": {},
   "source": [
    "Translation:\n",
    "\n"
   ]
  },
  {
   "cell_type": "code",
   "execution_count": 20,
   "metadata": {},
   "outputs": [
    {
     "ename": "SyntaxError",
     "evalue": "invalid syntax (<ipython-input-20-a18f53ac2eac>, line 3)",
     "output_type": "error",
     "traceback": [
      "\u001b[0;36m  File \u001b[0;32m\"<ipython-input-20-a18f53ac2eac>\"\u001b[0;36m, line \u001b[0;32m3\u001b[0m\n\u001b[0;31m    for magician in magicians\u001b[0m\n\u001b[0m                             ^\u001b[0m\n\u001b[0;31mSyntaxError\u001b[0m\u001b[0;31m:\u001b[0m invalid syntax\n"
     ]
    }
   ],
   "source": [
    "# Run the block of code below. What's happening?\n",
    "\n",
    "for magician in magicians\n",
    "    print(magician)"
   ]
  },
  {
   "cell_type": "markdown",
   "metadata": {},
   "source": [
    "ANSWER:\n",
    "\n",
    "\n"
   ]
  },
  {
   "cell_type": "code",
   "execution_count": 21,
   "metadata": {},
   "outputs": [
    {
     "ename": "IndentationError",
     "evalue": "expected an indented block (<ipython-input-21-084c28e83446>, line 4)",
     "output_type": "error",
     "traceback": [
      "\u001b[0;36m  File \u001b[0;32m\"<ipython-input-21-084c28e83446>\"\u001b[0;36m, line \u001b[0;32m4\u001b[0m\n\u001b[0;31m    print(magician)\u001b[0m\n\u001b[0m        ^\u001b[0m\n\u001b[0;31mIndentationError\u001b[0m\u001b[0;31m:\u001b[0m expected an indented block\n"
     ]
    }
   ],
   "source": [
    "# Run the block of code below. What's happening?\n",
    "\n",
    "for magician in magicians:\n",
    "print(magician)"
   ]
  },
  {
   "cell_type": "markdown",
   "metadata": {},
   "source": [
    "ANSWER:\n",
    "    \n",
    "    \n",
    "    "
   ]
  },
  {
   "cell_type": "code",
   "execution_count": 22,
   "metadata": {},
   "outputs": [
    {
     "name": "stdout",
     "output_type": "stream",
     "text": [
      "alice\n",
      "david\n",
      "carolina\n"
     ]
    }
   ],
   "source": [
    "# And how about now in the lines below?\n",
    "\n",
    "for magician in magicians: print(magician)"
   ]
  },
  {
   "cell_type": "code",
   "execution_count": 23,
   "metadata": {},
   "outputs": [
    {
     "name": "stdout",
     "output_type": "stream",
     "text": [
      "dog\n",
      "hello\n",
      "cat\n",
      "hello\n",
      "fish\n",
      "hello\n"
     ]
    }
   ],
   "source": [
    "for pet in animals: print(pet); print('hello')"
   ]
  },
  {
   "cell_type": "markdown",
   "metadata": {},
   "source": [
    "**TAKEAWAY:** The colon and indent complement each other.\n",
    "- The colon tells the interpreter to expect an indent, or a block of code that is part of the preceding code (in this case a for loop).\n",
    "- **ALSO,** although you can condense into one line and forego the need for indentation, *you lose readability of your code.*\n",
    "\n",
    "See DOCS for more info:\n",
    "https://www.python.org/dev/peps/pep-0008/#other-recommendations"
   ]
  },
  {
   "cell_type": "markdown",
   "metadata": {},
   "source": [
    "***"
   ]
  },
  {
   "cell_type": "markdown",
   "metadata": {},
   "source": [
    "***\n",
    "# 3) Avoiding indentation errors\n",
    "\n",
    "##### Let's review an example of a logical error due to indentation\n",
    "\n",
    "- What’s the difference between the two blocks of code below? \n",
    "- What’s the difference in the output?"
   ]
  },
  {
   "cell_type": "code",
   "execution_count": 24,
   "metadata": {},
   "outputs": [
    {
     "name": "stdout",
     "output_type": "stream",
     "text": [
      "Alice, that was a great trick!\n",
      "I can't wait to see your next trick, Alice.\n",
      "\n",
      "David, that was a great trick!\n",
      "I can't wait to see your next trick, David.\n",
      "\n",
      "Carolina, that was a great trick!\n",
      "I can't wait to see your next trick, Carolina.\n",
      "\n",
      "Thank you, everyone. That was a great magic show!\n"
     ]
    }
   ],
   "source": [
    "# Version A\n",
    "\n",
    "for magician in magicians:\n",
    "    print(magician.title() + \", that was a great trick!\")\n",
    "    print(\"I can't wait to see your next trick, \" + magician.title() + \".\\n\")\n",
    "print(\"Thank you, everyone. That was a great magic show!\")"
   ]
  },
  {
   "cell_type": "code",
   "execution_count": 25,
   "metadata": {},
   "outputs": [
    {
     "name": "stdout",
     "output_type": "stream",
     "text": [
      "Alice, that was a great trick!\n",
      "David, that was a great trick!\n",
      "Carolina, that was a great trick!\n",
      "I can't wait to see your next trick, Carolina.\n",
      "\n",
      "Thank you, everyone. That was a great magic show!\n"
     ]
    }
   ],
   "source": [
    "# Version B\n",
    "\n",
    "for magician in magicians:\n",
    "    print(magician.title() + \", that was a great trick!\")\n",
    "print(\"I can't wait to see your next trick, \" + magician.title() + \".\\n\")\n",
    "print(\"Thank you, everyone. That was a great magic show!\")"
   ]
  },
  {
   "cell_type": "code",
   "execution_count": null,
   "metadata": {
    "collapsed": true
   },
   "outputs": [],
   "source": []
  },
  {
   "cell_type": "markdown",
   "metadata": {},
   "source": [
    "**TAKEAWAY:**\n",
    "- One way to avoid logical errors is to add a newline (aka blank line).\n",
    "- According to PEP 8 guidelines, a newline is called for because it improves readability."
   ]
  },
  {
   "cell_type": "code",
   "execution_count": 26,
   "metadata": {},
   "outputs": [
    {
     "name": "stdout",
     "output_type": "stream",
     "text": [
      "Alice, that was a great trick!\n",
      "I can't wait to see your next trick, Alice.\n",
      "\n",
      "David, that was a great trick!\n",
      "I can't wait to see your next trick, David.\n",
      "\n",
      "Carolina, that was a great trick!\n",
      "I can't wait to see your next trick, Carolina.\n",
      "\n",
      "Thank you, everyone. That was a great magic show!\n"
     ]
    }
   ],
   "source": [
    "# Version with improved readability:\n",
    "\n",
    "for magician in magicians:\n",
    "    print(magician.title() + \", that was a great trick!\")\n",
    "    print(\"I can't wait to see your next trick, \" + magician.title() + \".\\n\")\n",
    "\n",
    "print(\"Thank you, everyone. That was a great magic show!\")\n"
   ]
  },
  {
   "cell_type": "code",
   "execution_count": null,
   "metadata": {
    "collapsed": true
   },
   "outputs": [],
   "source": []
  },
  {
   "cell_type": "code",
   "execution_count": null,
   "metadata": {
    "collapsed": true
   },
   "outputs": [],
   "source": []
  },
  {
   "cell_type": "code",
   "execution_count": null,
   "metadata": {
    "collapsed": true
   },
   "outputs": [],
   "source": []
  },
  {
   "cell_type": "code",
   "execution_count": null,
   "metadata": {
    "collapsed": true
   },
   "outputs": [],
   "source": []
  },
  {
   "cell_type": "markdown",
   "metadata": {},
   "source": [
    "***\n",
    "# 4) Making numerical lists\n",
    "\n",
    "> Use Python's **range()** function to generate a series of numbers.\n",
    "\n",
    "What do we expect to see from the for loop below:"
   ]
  },
  {
   "cell_type": "code",
   "execution_count": null,
   "metadata": {
    "collapsed": true
   },
   "outputs": [],
   "source": [
    "for value in range(1,5):\n",
    "    print(value)"
   ]
  },
  {
   "cell_type": "markdown",
   "metadata": {},
   "source": [
    "### range(start,stop) \n",
    "\n",
    "- range only takes integers\n",
    "- not inclusive of stop (so it is exclusive -- *up to but not including*)\n",
    "\n",
    "***\n",
    "\n",
    "##### What range do we need for output of 0,1,2,3,4,5?"
   ]
  },
  {
   "cell_type": "code",
   "execution_count": null,
   "metadata": {
    "collapsed": true
   },
   "outputs": [],
   "source": []
  },
  {
   "cell_type": "code",
   "execution_count": null,
   "metadata": {
    "collapsed": true
   },
   "outputs": [],
   "source": []
  },
  {
   "cell_type": "code",
   "execution_count": null,
   "metadata": {
    "collapsed": true
   },
   "outputs": [],
   "source": []
  },
  {
   "cell_type": "code",
   "execution_count": null,
   "metadata": {
    "collapsed": true
   },
   "outputs": [],
   "source": []
  },
  {
   "cell_type": "code",
   "execution_count": null,
   "metadata": {
    "collapsed": true
   },
   "outputs": [],
   "source": [
    "for value in range(0,6):\n",
    "    print(value)\n",
    "\n",
    "    # OR\n",
    "\n",
    "for value in range(6):\n",
    "    print(value)"
   ]
  },
  {
   "cell_type": "markdown",
   "metadata": {},
   "source": [
    "#### But how do we put those generated series of numbers into a list?\n",
    "*Hint: use the list() function with the range() function.*"
   ]
  },
  {
   "cell_type": "code",
   "execution_count": null,
   "metadata": {
    "collapsed": true
   },
   "outputs": [],
   "source": [
    "list_of_numbers = \n",
    "\n",
    "print(list_of_numbers)"
   ]
  },
  {
   "cell_type": "markdown",
   "metadata": {},
   "source": [
    "##### We can also use the range() function to tell Python to skip numbers in a given range.\n",
    "\n",
    "\n",
    "Can someone explain what is going on in the code below:"
   ]
  },
  {
   "cell_type": "code",
   "execution_count": null,
   "metadata": {
    "collapsed": true
   },
   "outputs": [],
   "source": [
    "even_numbers = list(range(2,11,2))\n",
    "\n",
    "print(even_numbers)"
   ]
  },
  {
   "cell_type": "markdown",
   "metadata": {},
   "source": [
    "**ANSWER:** the third parameter allows us to specify 'every nth'\n",
    "\n",
    "Let's do odd numbers now..."
   ]
  },
  {
   "cell_type": "code",
   "execution_count": null,
   "metadata": {
    "collapsed": true
   },
   "outputs": [],
   "source": [
    "odd_numbers = \n",
    "\n",
    "\n",
    "print(odd_numbers)"
   ]
  },
  {
   "cell_type": "markdown",
   "metadata": {},
   "source": [
    "***\n",
    "### Simple statistics with a List of Numbers\n",
    "\n",
    "Python has functions specific to lists with numbers:"
   ]
  },
  {
   "cell_type": "code",
   "execution_count": 29,
   "metadata": {},
   "outputs": [
    {
     "name": "stdout",
     "output_type": "stream",
     "text": [
      "1\n",
      "49\n",
      "425\n"
     ]
    }
   ],
   "source": [
    "digits = list(range(1,50,3))\n",
    "\n",
    "print(min(digits))\n",
    "print(max(digits))\n",
    "print(sum(digits))"
   ]
  },
  {
   "cell_type": "markdown",
   "metadata": {},
   "source": [
    "***\n",
    "### Let's take it up a notch, and put together what we've learned so far:\n",
    "\n",
    "> Initialize a variable `squares` as an empty list.\n",
    "\n",
    "> For each value in the range 1 THROUGH 10, square the value,\n",
    "\n",
    "> and append it to `squares`."
   ]
  },
  {
   "cell_type": "code",
   "execution_count": null,
   "metadata": {
    "collapsed": true
   },
   "outputs": [],
   "source": []
  },
  {
   "cell_type": "code",
   "execution_count": null,
   "metadata": {
    "collapsed": true
   },
   "outputs": [],
   "source": []
  },
  {
   "cell_type": "code",
   "execution_count": null,
   "metadata": {
    "collapsed": true
   },
   "outputs": [],
   "source": []
  },
  {
   "cell_type": "code",
   "execution_count": null,
   "metadata": {
    "collapsed": true
   },
   "outputs": [],
   "source": []
  },
  {
   "cell_type": "code",
   "execution_count": null,
   "metadata": {
    "collapsed": true
   },
   "outputs": [],
   "source": []
  },
  {
   "cell_type": "code",
   "execution_count": null,
   "metadata": {
    "collapsed": true
   },
   "outputs": [],
   "source": []
  },
  {
   "cell_type": "code",
   "execution_count": null,
   "metadata": {
    "collapsed": true
   },
   "outputs": [],
   "source": [
    "# One solution:\n",
    "\n",
    "squares = []\n",
    "for value in range(1,11):\n",
    "    square = value**2\n",
    "    squares.append(square)\n",
    "\n",
    "print(squares)"
   ]
  },
  {
   "cell_type": "code",
   "execution_count": null,
   "metadata": {
    "collapsed": true
   },
   "outputs": [],
   "source": [
    "# What is one way to make the solution above more concise? \n",
    "# (without the use of list comprehension)\n",
    "\n",
    "squares = []\n",
    "\n",
    "for value in range(1,11):\n",
    "    squares.append(value**2)\n",
    "\n",
    "print(squares)\n",
    "\n",
    "    # OR\n",
    "\n",
    "squares = []\n",
    "\n",
    "for value in range(1,11): squares.append(value**2)\n",
    "\n",
    "print(squares)"
   ]
  },
  {
   "cell_type": "code",
   "execution_count": null,
   "metadata": {
    "collapsed": true
   },
   "outputs": [],
   "source": []
  },
  {
   "cell_type": "markdown",
   "metadata": {},
   "source": [
    "### List Comprehensions\n",
    "\n",
    "List comprehensions: \n",
    "- allow you to generate new lists in one line of code.\n",
    "- work by combining the for loop and the creation of new elements into one line, and automatically appends each new element to a list.\n",
    "\n",
    "***\n",
    "#### Recall this `for loop` from the solution above:\n"
   ]
  },
  {
   "cell_type": "code",
   "execution_count": 30,
   "metadata": {},
   "outputs": [
    {
     "name": "stdout",
     "output_type": "stream",
     "text": [
      "[1, 4, 9, 16, 25, 36, 49, 64, 81, 100]\n"
     ]
    }
   ],
   "source": [
    "squares = []\n",
    "\n",
    "for value in range(1,11):\n",
    "    squares.append(value**2)\n",
    "\n",
    "print(squares)"
   ]
  },
  {
   "cell_type": "markdown",
   "metadata": {},
   "source": [
    "#### Let's use list comprehension to rewrite our block of code"
   ]
  },
  {
   "cell_type": "code",
   "execution_count": 31,
   "metadata": {},
   "outputs": [
    {
     "name": "stdout",
     "output_type": "stream",
     "text": [
      "[1, 4, 9, 16, 25, 36, 49, 64, 81, 100]\n",
      "[1, 4, 9, 16, 25, 36, 49, 64, 81, 100]\n"
     ]
    }
   ],
   "source": [
    "## The solution above revised with list comprehension is:\n",
    "\n",
    "squares_from_lc = [value**2 for value in range(1,11)]\n",
    "\n",
    "print(squares_from_lc)\n",
    "\n",
    "\n",
    "## COPY/PASTE DEMO\n",
    "\n",
    "\n",
    "\n",
    "\n",
    "\n",
    "## END DEMO"
   ]
  },
  {
   "cell_type": "markdown",
   "metadata": {},
   "source": [
    "> In python, list comprehension is specific to this notation with brackets.\n",
    "\n",
    "Extra resources for list comprehension:\n",
    "(also can be found in 'Extra Resources' folder in NYU Class Site)\n",
    "- https://treyhunner.com/2015/12/python-list-comprehensions-now-in-color/\n",
    "- https://www.makeuseof.com/tag/python-list-comprehension-guide/ "
   ]
  },
  {
   "cell_type": "markdown",
   "metadata": {},
   "source": [
    "### BONUS EXAMPLE / CLASS EXERCISE, IF TIME PERMITS...\n",
    "\n",
    "`list('spam')`\n",
    "\n",
    "Can we create a list from an iterable, but specify every nth item?"
   ]
  },
  {
   "cell_type": "code",
   "execution_count": 34,
   "metadata": {},
   "outputs": [
    {
     "name": "stdout",
     "output_type": "stream",
     "text": [
      "['s', 'p', 'a', 'm', ' ', 'i', 's', ' ', 'a', ' ', 'f', 'o', 'o', 'd']\n"
     ]
    }
   ],
   "source": [
    "first_list = list('spam is a food')\n",
    "new_list = []\n",
    "\n",
    "print(first_list)\n",
    "\n"
   ]
  },
  {
   "cell_type": "markdown",
   "metadata": {},
   "source": [
    "Here is how we would accomplish that by using a for loop with the range() and len() functions:\n",
    "\n",
    "- If we want every 3rd element:"
   ]
  },
  {
   "cell_type": "code",
   "execution_count": 35,
   "metadata": {},
   "outputs": [
    {
     "name": "stdout",
     "output_type": "stream",
     "text": [
      "['s', 'm', 's', ' ', 'o']\n"
     ]
    }
   ],
   "source": [
    "# One Solution:\n",
    "\n",
    "n = 3\n",
    "\n",
    "for index in range(0,len(first_list),n):\n",
    "    new_list.append(first_list[index])\n",
    "\n",
    "print(new_list)"
   ]
  },
  {
   "cell_type": "markdown",
   "metadata": {},
   "source": [
    "How do we use list comprehension in our previous solution?"
   ]
  },
  {
   "cell_type": "code",
   "execution_count": 36,
   "metadata": {},
   "outputs": [
    {
     "name": "stdout",
     "output_type": "stream",
     "text": [
      "['s', 'm', 's', ' ', 'o']\n"
     ]
    }
   ],
   "source": [
    "# One Solution:\n",
    "\n",
    "new_list = [first_list[index] for index in range(0,len(first_list),n)]\n",
    "\n",
    "print(new_list)"
   ]
  },
  {
   "cell_type": "markdown",
   "metadata": {},
   "source": [
    "***"
   ]
  },
  {
   "cell_type": "markdown",
   "metadata": {},
   "source": [
    "***\n",
    "# 5) Working with Part of a List\n",
    "\n",
    "\n",
    "### Slicing a List\n",
    "\n",
    "What's happening in the code below?"
   ]
  },
  {
   "cell_type": "code",
   "execution_count": 37,
   "metadata": {},
   "outputs": [
    {
     "name": "stdout",
     "output_type": "stream",
     "text": [
      "['charles', 'martina', 'michael']\n"
     ]
    }
   ],
   "source": [
    "players = ['charles', 'martina', 'michael', 'florence', 'eli']\n",
    "print(players[0:3])"
   ]
  },
  {
   "cell_type": "code",
   "execution_count": 38,
   "metadata": {},
   "outputs": [
    {
     "name": "stdout",
     "output_type": "stream",
     "text": [
      "['charles', 'martina', 'michael', 'florence', 'eli']\n"
     ]
    }
   ],
   "source": [
    "# Note: Our original list is still intact\n",
    "print(players)"
   ]
  },
  {
   "cell_type": "markdown",
   "metadata": {},
   "source": [
    "> #### SYNTAX for slicing:\n",
    "> list_name[index_a : index_b]\n",
    "\n",
    "> list_name[starting_index : up_to_but_not_including_index]\n",
    "\n",
    "Let's try other slices..."
   ]
  },
  {
   "cell_type": "code",
   "execution_count": 39,
   "metadata": {},
   "outputs": [
    {
     "name": "stdout",
     "output_type": "stream",
     "text": [
      "['charles', 'martina', 'michael', 'florence']\n"
     ]
    }
   ],
   "source": [
    "# What's happening in the code below?\n",
    "print(players[:4])"
   ]
  },
  {
   "cell_type": "markdown",
   "metadata": {},
   "source": [
    "ANSWER:\n",
    "\n",
    "\n"
   ]
  },
  {
   "cell_type": "code",
   "execution_count": 40,
   "metadata": {},
   "outputs": [
    {
     "name": "stdout",
     "output_type": "stream",
     "text": [
      "['michael', 'florence', 'eli']\n"
     ]
    }
   ],
   "source": [
    "# What's happening in the code below?\n",
    "print(players[2:])"
   ]
  },
  {
   "cell_type": "markdown",
   "metadata": {},
   "source": [
    "ANSWER:\n",
    "\n",
    "\n"
   ]
  },
  {
   "cell_type": "code",
   "execution_count": 41,
   "metadata": {},
   "outputs": [
    {
     "name": "stdout",
     "output_type": "stream",
     "text": [
      "['michael', 'florence', 'eli']\n"
     ]
    }
   ],
   "source": [
    "# How about now? What is an advantage of using the syntax below?\n",
    "print(players[-3:])"
   ]
  },
  {
   "cell_type": "markdown",
   "metadata": {},
   "source": [
    "ANSWER:\n",
    "\n",
    "\n",
    "\n",
    "Advantage: \n",
    "- Will always print the last 3 players in the list, regardless of changing list size.\n"
   ]
  },
  {
   "cell_type": "code",
   "execution_count": 43,
   "metadata": {},
   "outputs": [
    {
     "name": "stdout",
     "output_type": "stream",
     "text": [
      "['charles', 'martina']\n"
     ]
    }
   ],
   "source": [
    "# What do we expect from the line of code below?\n",
    "print(players[:-3]) # up to but not including the 3rd to the end\n"
   ]
  },
  {
   "cell_type": "code",
   "execution_count": null,
   "metadata": {
    "collapsed": true
   },
   "outputs": [],
   "source": []
  },
  {
   "cell_type": "markdown",
   "metadata": {},
   "source": [
    "***\n",
    "\n",
    "### Looping through a slice\n",
    "\n",
    "Let's see an example of using a slice to loop through a subset of elements in a list."
   ]
  },
  {
   "cell_type": "code",
   "execution_count": 44,
   "metadata": {},
   "outputs": [
    {
     "name": "stdout",
     "output_type": "stream",
     "text": [
      "Here are the first 3 players on my team:\n",
      "Charles\n",
      "Martina\n",
      "Michael\n"
     ]
    }
   ],
   "source": [
    "print(\"Here are the first 3 players on my team:\")\n",
    "\n",
    "for player in players[:3]:\n",
    "    print(player.title())"
   ]
  },
  {
   "cell_type": "markdown",
   "metadata": {},
   "source": [
    "Let's see an example of using a slice to copy the elements in one list to another."
   ]
  },
  {
   "cell_type": "code",
   "execution_count": 50,
   "metadata": {},
   "outputs": [
    {
     "name": "stdout",
     "output_type": "stream",
     "text": [
      "['charles', 'martina', 'michael', 'florence', 'eli']\n",
      "['charles', 'martina', 'michael', 'florence', 'eli']\n"
     ]
    }
   ],
   "source": [
    "# Copying a List\n",
    "\n",
    "players_bb = ['charles', 'martina', 'michael', 'florence', 'eli']\n",
    "players_vt = players_bb[:]\n",
    "\n",
    "print(players_bb)\n",
    "print(players_vt)"
   ]
  },
  {
   "cell_type": "markdown",
   "metadata": {},
   "source": [
    "> ## Concept: \n",
    "> ## variables as pointers VERSUS copies of mutable objects.\n",
    "\n",
    "- Assignment statements in Python do not create copies of objects, they only bind names to an object. \n",
    "    - For immutable objects, that usually doesn’t make a difference.\n",
    "    - But for working with mutable objects or collections of mutable objects, you might be looking for a way to create “real copies” or “clones” of these objects. In other words, copies that are independent from the original object.\n",
    "\n",
    "#### Let's prove that we created 2 separate lists using the [:] syntax approach.\n",
    "\n",
    "What's a good way to check? "
   ]
  },
  {
   "cell_type": "code",
   "execution_count": 51,
   "metadata": {},
   "outputs": [
    {
     "name": "stdout",
     "output_type": "stream",
     "text": [
      "['charles', 'martina', 'michael', 'florence', 'eli', 'Kelly']\n",
      "['charles', 'martina', 'michael', 'florence', 'eli', 'Simon']\n"
     ]
    }
   ],
   "source": [
    "# Answer: Append different items to the two different lists:\n",
    "\n",
    "players_bb.append('Kelly')\n",
    "players_vt.append('Simon')\n",
    "\n",
    "print(players_bb)\n",
    "print(players_vt)"
   ]
  },
  {
   "cell_type": "markdown",
   "metadata": {},
   "source": [
    "#### Now, let's review the output of the code below."
   ]
  },
  {
   "cell_type": "code",
   "execution_count": 47,
   "metadata": {},
   "outputs": [
    {
     "name": "stdout",
     "output_type": "stream",
     "text": [
      "['charles', 'martina', 'michael', 'florence', 'eli', 'Kelly', 'Simon']\n",
      "['charles', 'martina', 'michael', 'florence', 'eli', 'Kelly', 'Simon']\n"
     ]
    }
   ],
   "source": [
    "# In the code below, we are using the variable `players_bb` as a pointer \n",
    "# in the definition, or assignment, of variable `players_vt`.\n",
    "\n",
    "players_bb = ['charles', 'martina', 'michael', 'florence', 'eli']\n",
    "players_vt = players_bb\n",
    "\n",
    "players_bb.append('Kelly')\n",
    "players_vt.append('Simon')\n",
    "\n",
    "print(players_bb)\n",
    "print(players_vt)"
   ]
  },
  {
   "cell_type": "markdown",
   "metadata": {},
   "source": [
    "###  HOWEVER, keep in mind....\n",
    "\n",
    "> ## IMPORTANT CONCEPT: SHALLOW versus DEEP copy\n",
    "\n",
    "> - A shallow copy means constructing a new collection object and then populating it with references to the child objects found in the original. In essence, a shallow copy is only one level deep. The copying process does not recurse and therefore won’t create copies of the child objects themselves.\n",
    "\n",
    "> - A deep copy makes the copying process recursive. It means first constructing a new collection object and then recursively populating it with copies of the child objects found in the original. Copying an object this way walks the whole object tree to create a fully independent clone of the original object and all of its children.\n",
    "\n",
    "#### Review the lines of code below to see an example."
   ]
  },
  {
   "cell_type": "code",
   "execution_count": 61,
   "metadata": {},
   "outputs": [
    {
     "name": "stdout",
     "output_type": "stream",
     "text": [
      "['charles', 'martina', 'michael', 'florence', 'eli', ['fred', 'luna']]\n",
      "['charles', 'martina', 'michael', 'florence', 'eli', ['fred', 'luna']] \n",
      "\n"
     ]
    }
   ],
   "source": [
    "# Example of a SHALLOW copy:\n",
    "\n",
    "sublist = ['fred','luna']\n",
    "players_bb = ['charles', 'martina', 'michael', 'florence', 'eli', sublist]\n",
    "players_vt = players_bb[:]\n",
    "\n",
    "print(players_bb)\n",
    "print(players_vt,'\\n')"
   ]
  },
  {
   "cell_type": "code",
   "execution_count": 62,
   "metadata": {},
   "outputs": [
    {
     "name": "stdout",
     "output_type": "stream",
     "text": [
      "['charles', 'martina', 'michael', 'florence', 'eli', ['fred', 'luna', 'vi'], 'someone else']\n",
      "['charles', 'martina', 'michael', 'florence', 'eli', ['fred', 'luna', 'vi']] \n",
      "\n"
     ]
    }
   ],
   "source": [
    "sublist.append('vi')\n",
    "players_bb.append('someone else')\n",
    "\n",
    "print(players_bb)\n",
    "print(players_vt,'\\n')"
   ]
  },
  {
   "cell_type": "code",
   "execution_count": 63,
   "metadata": {},
   "outputs": [
    {
     "name": "stdout",
     "output_type": "stream",
     "text": [
      "['charles', 'martina', 'michael', 'florence', 'eli', ['fred', 'gigi', 'vi'], 'someone else']\n",
      "['charles', 'martina', 'michael', 'florence', 'eli', ['fred', 'gigi', 'vi']] \n",
      "\n"
     ]
    }
   ],
   "source": [
    "players_bb[5][1] = 'gigi'\n",
    "\n",
    "print(players_bb)\n",
    "print(players_vt,'\\n')"
   ]
  },
  {
   "cell_type": "markdown",
   "metadata": {},
   "source": [
    "** TAKEAWAY:** \n",
    "- Slicing an entire list to make a copy of that list is a SHALLOW copy, not a DEEP copy.\n",
    "\n",
    "- Be aware of the concept of SHALLOW versus DEEP COPY.\n",
    "    - For this course, this is not something that is going to be an issue.\n",
    "    - It is just a good topic to be aware of as you continue to learn programming.\n",
    "\n",
    "##### Good article over shallow and deep copy in Python:\n",
    "##### https://realpython.com/copying-python-objects/"
   ]
  },
  {
   "cell_type": "markdown",
   "metadata": {},
   "source": [
    "***"
   ]
  },
  {
   "cell_type": "markdown",
   "metadata": {},
   "source": [
    "***\n",
    "# 6) Tuples\n",
    "\n",
    "\n",
    "#### Sometimes you’ll want to create a list of items that cannot change.\n",
    "- Tuples allow you to do just that.\n",
    "- Python refers to values that cannot change as **immutable**.\n",
    "- An immutable list is called a *tuple*.\n",
    "\n",
    "#### Notes on Tuples:\n",
    "- A tuple looks just like a list except you use parentheses instead of square brackets.\n",
    "- Once you define a tuple, you can access individual elements by using each item’s index, just as you would for a list."
   ]
  },
  {
   "cell_type": "code",
   "execution_count": 65,
   "metadata": {},
   "outputs": [
    {
     "name": "stdout",
     "output_type": "stream",
     "text": [
      "200\n",
      "50\n"
     ]
    }
   ],
   "source": [
    "dimensions = (200, 50)\n",
    "print(dimensions[0])\n",
    "print(dimensions[1])"
   ]
  },
  {
   "cell_type": "markdown",
   "metadata": {},
   "source": [
    "- You can also use a for loop on a tuple:"
   ]
  },
  {
   "cell_type": "code",
   "execution_count": 66,
   "metadata": {},
   "outputs": [
    {
     "name": "stdout",
     "output_type": "stream",
     "text": [
      "200\n",
      "50\n"
     ]
    }
   ],
   "source": [
    "# Looping through all values in a tuple\n",
    "\n",
    "for dimension in dimensions:\n",
    "    print(dimension)"
   ]
  },
  {
   "cell_type": "markdown",
   "metadata": {},
   "source": [
    "- What happens if we try to change one of the items in the tuple?"
   ]
  },
  {
   "cell_type": "code",
   "execution_count": 67,
   "metadata": {},
   "outputs": [
    {
     "ename": "TypeError",
     "evalue": "'tuple' object does not support item assignment",
     "output_type": "error",
     "traceback": [
      "\u001b[0;31m---------------------------------------------------------------------------\u001b[0m",
      "\u001b[0;31mTypeError\u001b[0m                                 Traceback (most recent call last)",
      "\u001b[0;32m<ipython-input-67-7e4e55b78966>\u001b[0m in \u001b[0;36m<module>\u001b[0;34m()\u001b[0m\n\u001b[0;32m----> 1\u001b[0;31m \u001b[0mdimensions\u001b[0m\u001b[0;34m[\u001b[0m\u001b[0;36m0\u001b[0m\u001b[0;34m]\u001b[0m \u001b[0;34m=\u001b[0m \u001b[0;36m250\u001b[0m\u001b[0;34m\u001b[0m\u001b[0;34m\u001b[0m\u001b[0m\n\u001b[0m",
      "\u001b[0;31mTypeError\u001b[0m: 'tuple' object does not support item assignment"
     ]
    }
   ],
   "source": [
    "dimensions[0] = 250"
   ]
  },
  {
   "cell_type": "markdown",
   "metadata": {},
   "source": [
    "**ANSWER:** We can't. That's the whole point of a tuple.\n",
    "\n",
    "\n",
    "- We may not be able to change the items in a tuple, but we can re-assign the variable that holds a tuple to a new tuple:"
   ]
  },
  {
   "cell_type": "code",
   "execution_count": 68,
   "metadata": {},
   "outputs": [
    {
     "name": "stdout",
     "output_type": "stream",
     "text": [
      "(400, 100)\n"
     ]
    }
   ],
   "source": [
    "dimensions = (400, 100)\n",
    "print(dimensions)"
   ]
  },
  {
   "cell_type": "markdown",
   "metadata": {
    "collapsed": true
   },
   "source": [
    "**TAKEAWAY:** Use tuples when you want to store a set of values that should NOT be changed throughout the life of a program.\n",
    "***\n",
    "*Discuss:* What are best practices for reassigning variables versus using a new variable name.\n",
    "\n",
    "***"
   ]
  },
  {
   "cell_type": "markdown",
   "metadata": {},
   "source": [
    "### Homework Hints for Questions 7 - 10\n",
    "\n",
    "- Using a for loop to increase or decrease a 'counter' variable\n",
    "\n",
    "How do I get the following output:\n",
    "\n",
    "`5\n",
    "4\n",
    "3\n",
    "2\n",
    "1`\n",
    "\n",
    "\n",
    "**Solution:** You need to use a 'counter' variable that will change with each iteration of the for loop."
   ]
  },
  {
   "cell_type": "code",
   "execution_count": 69,
   "metadata": {},
   "outputs": [
    {
     "name": "stdout",
     "output_type": "stream",
     "text": [
      "5\n",
      "4\n",
      "3\n",
      "2\n",
      "1\n"
     ]
    }
   ],
   "source": [
    "# Example of using a counter in a for loop.\n",
    "\n",
    "counter = 5\n",
    "\n",
    "for number in range(1,counter+1):\n",
    "    print(counter)\n",
    "    counter = counter - 1"
   ]
  },
  {
   "cell_type": "code",
   "execution_count": null,
   "metadata": {
    "collapsed": true
   },
   "outputs": [],
   "source": []
  },
  {
   "cell_type": "markdown",
   "metadata": {},
   "source": [
    "How do I get the following output:\n",
    "\n",
    "`\n",
    "K \n",
    "K K \n",
    "K K K \n",
    "K K K K \n",
    "K K K K K \n",
    "K K K K K K \n",
    "K K K K K K K \n",
    "K K K K K K K K \n",
    "K K K K K K K K K \n",
    "K K K K K K K K K K\n",
    "`"
   ]
  },
  {
   "cell_type": "code",
   "execution_count": 74,
   "metadata": {},
   "outputs": [
    {
     "name": "stdout",
     "output_type": "stream",
     "text": [
      "K \n",
      "K K \n",
      "K K K \n",
      "K K K K \n",
      "K K K K K \n",
      "K K K K K K \n",
      "K K K K K K K \n",
      "K K K K K K K K \n",
      "K K K K K K K K K \n",
      "K K K K K K K K K K \n"
     ]
    }
   ],
   "source": [
    "counter = 0\n",
    "\n",
    "for number in range(10):\n",
    "    spaces = ' ' * counter\n",
    "    kays = 'K ' * (number + 1)\n",
    "    print(spaces + kays)\n",
    "    counter = counter - 1"
   ]
  },
  {
   "cell_type": "code",
   "execution_count": null,
   "metadata": {
    "collapsed": true
   },
   "outputs": [],
   "source": []
  }
 ],
 "metadata": {
  "kernelspec": {
   "display_name": "Python 3",
   "language": "python",
   "name": "python3"
  },
  "language_info": {
   "codemirror_mode": {
    "name": "ipython",
    "version": 3
   },
   "file_extension": ".py",
   "mimetype": "text/x-python",
   "name": "python",
   "nbconvert_exporter": "python",
   "pygments_lexer": "ipython3",
   "version": "3.6.8"
  }
 },
 "nbformat": 4,
 "nbformat_minor": 2
}
